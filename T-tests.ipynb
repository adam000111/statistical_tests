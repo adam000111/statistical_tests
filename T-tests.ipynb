{
 "cells": [
  {
   "cell_type": "markdown",
   "id": "f6d98a00",
   "metadata": {},
   "source": [
    "# T-tests for survey 1 and survey 2"
   ]
  },
  {
   "cell_type": "markdown",
   "id": "1e36d51c",
   "metadata": {},
   "source": [
    "In this notebook, the two-sample t-test (also called the independent samples t-test) is performed to compare responses to the similar questions in survey 1 and survey 2. To do this, the t-statistic and p-values of questions are calculated using SciPy library to see whether the null hypothesis can be rejected or not.\n",
    "\n",
    "\n",
    "**Null Hypothesis (H0)**: There is no significant difference between the responses of the two surveys.\n",
    "\n",
    "**Alternative Hypothesis (H1)**: There is a statistically significant difference between the responses of the two surveys.\n",
    "\n",
    "\n",
    "\n",
    "Code implemented from SciPy documentation,\n",
    "\n",
    "URL: https://docs.scipy.org/doc/scipy/reference/generated/scipy.stats.ttest_ind.html"
   ]
  },
  {
   "cell_type": "markdown",
   "id": "aa9f3818",
   "metadata": {},
   "source": [
    "## Q1 in survey 1 and survey 2"
   ]
  },
  {
   "cell_type": "code",
   "execution_count": 15,
   "id": "576a3a9a",
   "metadata": {},
   "outputs": [
    {
     "name": "stdout",
     "output_type": "stream",
     "text": [
      "T-statistic: 0.7442032693390465, P-value: 0.46099772264804917\n",
      "P-value is greater than 0.05, so we fail to reject the null hypothesis and thus there is not enough evidence to suggest a significant difference between the responses of the two surveys\n"
     ]
    }
   ],
   "source": [
    "from scipy import stats\n",
    "\n",
    "# 1 = correct answer and 0 = incorrect answer in this survey data\n",
    "survey1_data = [1, 1, 1, 1, 1, 1, 1, 1, 0, 0, 0, 0, 0, 0, 0, 0, 0, 0, 0, 0, 0] # 21 responses\n",
    "survey2_data = [1, 1, 1, 1, 1, 1, 0, 0, 0, 0, 0, 0, 0, 0, 0, 0, 0, 0, 0, 0, 0, 0] #22 responses\n",
    "\n",
    "# Perform two-sample t-test\n",
    "t_statistic, p_value = stats.ttest_ind(survey1_data, survey2_data)\n",
    "\n",
    "# Print the t-statistic and p-value\n",
    "print(f\"T-statistic: {t_statistic}, P-value: {p_value}\")\n",
    "\n",
    "if p_value < 0.05:\n",
    "    print(f\"P-value is less than 0.05, so we reject the null hypothesis and thus there is a statistically significant different between the responses of the two surveys\")\n",
    "else:\n",
    "    print(f\"P-value is greater than 0.05, so we fail to reject the null hypothesis and thus there is not enough evidence to suggest a significant difference between the responses of the two surveys\")"
   ]
  },
  {
   "cell_type": "markdown",
   "id": "f9661c9f",
   "metadata": {},
   "source": [
    "## Q2 in survey 1 and survey 2"
   ]
  },
  {
   "cell_type": "code",
   "execution_count": 16,
   "id": "2fc5fc58",
   "metadata": {},
   "outputs": [
    {
     "name": "stdout",
     "output_type": "stream",
     "text": [
      "T-statistic: 0.2898034202909603, P-value: 0.7734272413616794\n",
      "P-value is greater than 0.05, so we fail to reject the null hypothesis and thus there is not enough evidence to suggest a significant difference between the responses of the two surveys\n"
     ]
    }
   ],
   "source": [
    "from scipy import stats\n",
    "\n",
    "# 1 = correct answer and 0 = incorrect answer in this survey data\n",
    "survey1_data = [1, 1, 1, 1, 1, 1, 1, 1, 1, 1, 1, 1, 1, 1, 1, 1, 1, 0, 0, 0, 0] # 21 responses\n",
    "survey2_data = [1, 1, 1, 1, 1, 1, 1, 1, 1, 1, 1, 1, 1, 1, 1, 1, 1, 0, 0, 0, 0, 0] #22 responses\n",
    "\n",
    "# Perform two-sample t-test\n",
    "t_statistic, p_value = stats.ttest_ind(survey1_data, survey2_data)\n",
    "\n",
    "# Print the t-statistic and p-value\n",
    "print(f\"T-statistic: {t_statistic}, P-value: {p_value}\")\n",
    "\n",
    "if p_value < 0.05:\n",
    "    print(f\"P-value is less than 0.05, so we reject the null hypothesis and thus there is a statistically significant different between the responses of the two surveys\")\n",
    "else:\n",
    "    print(f\"P-value is greater than 0.05, so we fail to reject the null hypothesis and thus there is not enough evidence to suggest a significant difference between the responses of the two surveys\")"
   ]
  },
  {
   "cell_type": "markdown",
   "id": "a86fe6a2",
   "metadata": {},
   "source": [
    "## Q3 in survey 1 and survey 2"
   ]
  },
  {
   "cell_type": "code",
   "execution_count": 17,
   "id": "c34061f8",
   "metadata": {},
   "outputs": [
    {
     "name": "stdout",
     "output_type": "stream",
     "text": [
      "T-statistic: -0.7996657148680572, P-value: 0.4285133759134584\n",
      "P-value is greater than 0.05, so we fail to reject the null hypothesis and thus there is not enough evidence to suggest a significant difference between the responses of the two surveys\n"
     ]
    }
   ],
   "source": [
    "from scipy import stats\n",
    "\n",
    "# 1 = correct answer and 0 = incorrect answer in this survey data\n",
    "survey1_data = [1, 1, 1, 1, 1, 1, 1, 0, 0, 0, 0, 0, 0, 0, 0, 0, 0, 0, 0, 0, 0] # 21 responses\n",
    "survey2_data = [1, 1, 1, 1, 1, 1, 1, 1, 1, 1, 0, 0, 0, 0, 0, 0, 0, 0, 0, 0, 0, 0] #22 responses\n",
    "\n",
    "# Perform two-sample t-test\n",
    "t_statistic, p_value = stats.ttest_ind(survey1_data, survey2_data)\n",
    "\n",
    "# Print the t-statistic and p-value\n",
    "print(f\"T-statistic: {t_statistic}, P-value: {p_value}\")\n",
    "\n",
    "if p_value < 0.05:\n",
    "    print(f\"P-value is less than 0.05, so we reject the null hypothesis and thus there is a statistically significant different between the responses of the two surveys\")\n",
    "else:\n",
    "    print(f\"P-value is greater than 0.05, so we fail to reject the null hypothesis and thus there is not enough evidence to suggest a significant difference between the responses of the two surveys\")"
   ]
  },
  {
   "cell_type": "markdown",
   "id": "67bc610c",
   "metadata": {},
   "source": [
    "## Q4 in survey 1 and survey 2"
   ]
  },
  {
   "cell_type": "code",
   "execution_count": 18,
   "id": "80bf8fdb",
   "metadata": {},
   "outputs": [
    {
     "name": "stdout",
     "output_type": "stream",
     "text": [
      "T-statistic: -0.1842820116776752, P-value: 0.8547006953874694\n",
      "P-value is greater than 0.05, so we fail to reject the null hypothesis and thus there is not enough evidence to suggest a significant difference between the responses of the two surveys\n"
     ]
    }
   ],
   "source": [
    "from scipy import stats\n",
    "\n",
    "# 1 = correct answer and 0 = incorrect answer in this survey data\n",
    "survey1_data = [1, 1, 1, 1, 1, 1, 1, 1, 0, 0, 0, 0, 0, 0, 0, 0, 0, 0, 0, 0, 0] # 21 responses\n",
    "survey2_data = [1, 1, 1, 1, 1, 1, 1, 1, 1, 0, 0, 0, 0, 0, 0, 0, 0, 0, 0, 0, 0, 0] #22 responses\n",
    "\n",
    "# Perform two-sample t-test\n",
    "t_statistic, p_value = stats.ttest_ind(survey1_data, survey2_data)\n",
    "\n",
    "# Print the t-statistic and p-value\n",
    "print(f\"T-statistic: {t_statistic}, P-value: {p_value}\")\n",
    "\n",
    "if p_value < 0.05:\n",
    "    print(f\"P-value is less than 0.05, so we reject the null hypothesis and thus there is a statistically significant different between the responses of the two surveys\")\n",
    "else:\n",
    "    print(f\"P-value is greater than 0.05, so we fail to reject the null hypothesis and thus there is not enough evidence to suggest a significant difference between the responses of the two surveys\")"
   ]
  },
  {
   "cell_type": "markdown",
   "id": "64f61007",
   "metadata": {},
   "source": [
    "## Q5 in survey 1 and survey 2"
   ]
  },
  {
   "cell_type": "code",
   "execution_count": 19,
   "id": "9f5397f3",
   "metadata": {},
   "outputs": [
    {
     "name": "stdout",
     "output_type": "stream",
     "text": [
      "T-statistic: 0.7728439070175043, P-value: 0.4440475533464042\n",
      "P-value is greater than 0.05, so we fail to reject the null hypothesis and thus there is not enough evidence to suggest a significant difference between the responses of the two surveys\n"
     ]
    }
   ],
   "source": [
    "from scipy import stats\n",
    "\n",
    "# 1 = correct answer and 0 = incorrect answer in this survey data\n",
    "survey1_data = [1, 1, 1, 1, 1, 1, 1, 1, 1, 1, 1, 1, 1, 0, 0, 0, 0, 0, 0, 0, 0] # 21 responses\n",
    "survey2_data = [1, 1, 1, 1, 1, 1, 1, 1, 1, 1, 1, 0, 0, 0, 0, 0, 0, 0, 0, 0, 0, 0] #22 responses\n",
    "\n",
    "# Perform two-sample t-test\n",
    "t_statistic, p_value = stats.ttest_ind(survey1_data, survey2_data)\n",
    "\n",
    "# Print the t-statistic and p-value\n",
    "print(f\"T-statistic: {t_statistic}, P-value: {p_value}\")\n",
    "\n",
    "if p_value < 0.05:\n",
    "    print(f\"P-value is less than 0.05, so we reject the null hypothesis and thus there is a statistically significant different between the responses of the two surveys\")\n",
    "else:\n",
    "    print(f\"P-value is greater than 0.05, so we fail to reject the null hypothesis and thus there is not enough evidence to suggest a significant difference between the responses of the two surveys\")"
   ]
  }
 ],
 "metadata": {
  "kernelspec": {
   "display_name": "Python 3 (ipykernel)",
   "language": "python",
   "name": "python3"
  },
  "language_info": {
   "codemirror_mode": {
    "name": "ipython",
    "version": 3
   },
   "file_extension": ".py",
   "mimetype": "text/x-python",
   "name": "python",
   "nbconvert_exporter": "python",
   "pygments_lexer": "ipython3",
   "version": "3.10.13"
  }
 },
 "nbformat": 4,
 "nbformat_minor": 5
}
